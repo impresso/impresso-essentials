{
 "cells": [
  {
   "cell_type": "code",
   "execution_count": null,
   "metadata": {},
   "outputs": [],
   "source": [
    "from impresso_essentials.bbox_visualizer.json_builder import build_bbox_json"
   ]
  },
  {
   "cell_type": "code",
   "execution_count": null,
   "metadata": {},
   "outputs": [],
   "source": [
    "issue_id = 'actionfem-1927-10-15-a'\n",
    "# issue_id = 'GDL-1798-07-07-a'\n",
    "build_bbox_json(issue_id, level=\"regions\")"
   ]
  },
  {
   "cell_type": "code",
   "execution_count": null,
   "metadata": {},
   "outputs": [],
   "source": [
    "page_id = 'GDL-1815-01-03-a-p0005'\n",
    "page_id = 'actionfem-1927-10-15-a-p0001'\n",
    "build_bbox_json(page_id, level=\"regions\")"
   ]
  },
  {
   "cell_type": "code",
   "execution_count": null,
   "metadata": {},
   "outputs": [],
   "source": [
    "# ci_id = 'actionfem-1927-10-15-a-i0012'\n",
    "ci_id = 'GDL-1798-07-07-a-i0002'\n",
    "build_bbox_json(ci_id, level=\"regions\")"
   ]
  }
 ],
 "metadata": {
  "kernelspec": {
   "display_name": ".venv",
   "language": "python",
   "name": "python3"
  },
  "language_info": {
   "codemirror_mode": {
    "name": "ipython",
    "version": 3
   },
   "file_extension": ".py",
   "mimetype": "text/x-python",
   "name": "python",
   "nbconvert_exporter": "python",
   "pygments_lexer": "ipython3",
   "version": "3.11.11"
  }
 },
 "nbformat": 4,
 "nbformat_minor": 2
}
