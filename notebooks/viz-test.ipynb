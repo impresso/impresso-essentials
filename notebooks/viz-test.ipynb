{
 "cells": [
  {
   "cell_type": "code",
   "execution_count": 2,
   "metadata": {},
   "outputs": [
    {
     "data": {
      "text/plain": [
       "{'iiif_img_base_uri': ['https://impresso-project.ch/api/proxy/iiif/GDL-1815-01-03-a-p0005'],\n",
       " 'bboxes': {'https://impresso-project.ch/api/proxy/iiif/GDL-1815-01-03-a-p0005': [{'t': 'article',\n",
       "    'ci': 'GDL-1815-01-03-a-i0013',\n",
       "    'c': [513, 1422, 335, 55]},\n",
       "   {'t': 'article',\n",
       "    'ci': 'GDL-1815-01-03-a-i0013',\n",
       "    'c': [83, 1488, 1092, 533]},\n",
       "   {'t': 'article', 'ci': 'GDL-1815-01-03-a-i0014', 'c': [352, 2035, 470, 45]},\n",
       "   {'t': 'article',\n",
       "    'ci': 'GDL-1815-01-03-a-i0014',\n",
       "    'c': [80, 2102, 1083, 495]},\n",
       "   {'t': 'article', 'ci': 'GDL-1815-01-03-a-i0015', 'c': [497, 2613, 275, 63]},\n",
       "   {'t': 'article',\n",
       "    'ci': 'GDL-1815-01-03-a-i0015',\n",
       "    'c': [67, 2688, 1083, 208]},\n",
       "   {'t': 'article',\n",
       "    'ci': 'GDL-1815-01-03-a-i0015',\n",
       "    'c': [1217, 105, 1097, 692]},\n",
       "   {'t': 'article',\n",
       "    'ci': 'GDL-1815-01-03-a-i0015',\n",
       "    'c': [1222, 793, 1092, 325]},\n",
       "   {'t': 'article',\n",
       "    'ci': 'GDL-1815-01-03-a-i0016',\n",
       "    'c': [1570, 1122, 365, 47]},\n",
       "   {'t': 'article',\n",
       "    'ci': 'GDL-1815-01-03-a-i0016',\n",
       "    'c': [1200, 1185, 1108, 1720]},\n",
       "   {'t': None, 'ci': None, 'c': [100, 105, 1080, 483]},\n",
       "   {'t': None, 'ci': None, 'c': [100, 588, 1075, 447]},\n",
       "   {'t': None, 'ci': None, 'c': [92, 1043, 1083, 367]}]}}"
      ]
     },
     "execution_count": 2,
     "metadata": {},
     "output_type": "execute_result"
    }
   ],
   "source": [
    "from impresso_essentials.bbox_visualizer.json_builder import build_bbox_json\n",
    "\n",
    "ci_id = 'GDL-1798-07-07-a-i0002'\n",
    "page_id = 'GDL-1815-01-03-a-p0005'\n",
    "build_bbox_json(ci_id, level=\"regions\")\n",
    "build_bbox_json(page_id, level=\"regions\")"
   ]
  },
  {
   "cell_type": "code",
   "execution_count": null,
   "metadata": {},
   "outputs": [],
   "source": [
    "# bounding_boxes = get_page_bounding_boxes(page_manifest, level=\"lines\")\n",
    "# # print(response.content)\n",
    "# img = Image.open(BytesIO(response.content))\n",
    "# img = draw_bounding_boxes(img, bounding_boxes)\n",
    "# img.show()"
   ]
  }
 ],
 "metadata": {
  "kernelspec": {
   "display_name": ".venv",
   "language": "python",
   "name": "python3"
  },
  "language_info": {
   "codemirror_mode": {
    "name": "ipython",
    "version": 3
   },
   "file_extension": ".py",
   "mimetype": "text/x-python",
   "name": "python",
   "nbconvert_exporter": "python",
   "pygments_lexer": "ipython3",
   "version": "3.11.11"
  }
 },
 "nbformat": 4,
 "nbformat_minor": 2
}
