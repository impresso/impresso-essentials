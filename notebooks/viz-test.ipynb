{
 "cells": [
  {
   "cell_type": "code",
   "execution_count": null,
   "metadata": {},
   "outputs": [],
   "source": [
    "from impresso_essentials.bbox_visualizer.json_builder import build_bbox_json\n",
    "\n",
    "ci_id = 'GDL-1798-07-07-a-i0002'\n",
    "page_id = 'GDL-1815-01-03-a-p0005'\n",
    "build_bbox_json(ci_id, level=\"regions\")\n",
    "build_bbox_json(page_id, level=\"regions\")"
   ]
  },
  {
   "cell_type": "code",
   "execution_count": null,
   "metadata": {},
   "outputs": [],
   "source": [
    "# bounding_boxes = get_page_bounding_boxes(page_manifest, level=\"lines\")\n",
    "# # print(response.content)\n",
    "# img = Image.open(BytesIO(response.content))\n",
    "# img = draw_bounding_boxes(img, bounding_boxes)\n",
    "# img.show()"
   ]
  }
 ],
 "metadata": {
  "kernelspec": {
   "display_name": ".venv",
   "language": "python",
   "name": "python3"
  },
  "language_info": {
   "codemirror_mode": {
    "name": "ipython",
    "version": 3
   },
   "file_extension": ".py",
   "mimetype": "text/x-python",
   "name": "python",
   "nbconvert_exporter": "python",
   "pygments_lexer": "ipython3",
   "version": "3.11.11"
  }
 },
 "nbformat": 4,
 "nbformat_minor": 2
}
